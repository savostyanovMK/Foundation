{
 "cells": [
  {
   "cell_type": "markdown",
   "id": "08144a30",
   "metadata": {},
   "source": [
    "# Predicting elements (LCG):"
   ]
  },
  {
   "cell_type": "code",
   "execution_count": 1,
   "id": "8d258aa0",
   "metadata": {},
   "outputs": [],
   "source": [
    "from math import gcd\n",
    "from functools import reduce"
   ]
  },
  {
   "attachments": {},
   "cell_type": "markdown",
   "id": "306cd77e",
   "metadata": {},
   "source": [
    "We'll start with mention the essential fact from NTheory:\n",
    "\n",
    "If x1, x2, ..., xk are random numbers, then P(GCD[n * x1, n * x2, ..., n * xk] = n) = 1 / ζ(k).\n",
    "\n",
    "(1 / ζ(6) = 0.98295259)"
   ]
  },
  {
   "cell_type": "markdown",
   "id": "11cd3436",
   "metadata": {},
   "source": [
    "To begin with, construct a function that will find the MODULE m according to given sequence of numbers, WITHOUT using the MULTIPLIER and INCREMENT:"
   ]
  },
  {
   "cell_type": "code",
   "execution_count": 9,
   "id": "d1f7ceab",
   "metadata": {},
   "outputs": [],
   "source": [
    "def module(data):\n",
    "    return reduce(gcd, [x * z - y * y for x, y, z in zip([z1 - z0 for z0, z1 in zip(data, data[1:])][2:], [z1 - z0 for z0, z1 in zip(data, data[1:])][1:], [z1 - z0 for z0, z1 in zip(data, data[1:])])])"
   ]
  },
  {
   "cell_type": "markdown",
   "id": "a5c998f2",
   "metadata": {},
   "source": [
    "Then we build function that will find MULTIPLIER a, using MODULE and neglecting the INCREMENT:"
   ]
  },
  {
   "cell_type": "code",
   "execution_count": 15,
   "id": "2c9ee39a",
   "metadata": {},
   "outputs": [],
   "source": [
    "def multiplier(data, module):\n",
    "    return pow(data[1] - data[0], -1, module) * (data[2] - data[1])"
   ]
  },
  {
   "cell_type": "markdown",
   "id": "432977b6",
   "metadata": {},
   "source": [
    "And finally it's easy to obtain INCREMENT, knowing MODULE and MULTIPLIER:"
   ]
  },
  {
   "cell_type": "code",
   "execution_count": 16,
   "id": "a194a2f9",
   "metadata": {},
   "outputs": [],
   "source": [
    "def increment(data, module, multiplier):\n",
    "    return (data[1] - data[0] * multiplier) % module"
   ]
  },
  {
   "cell_type": "code",
   "execution_count": 17,
   "id": "e45c254b",
   "metadata": {},
   "outputs": [],
   "source": [
    "def next_element(data):\n",
    "    return (data[-1] * multiplier(data, module(data)) + increment(data, module(data), multiplier(data, module(data)))) % module(data)"
   ]
  },
  {
   "cell_type": "code",
   "execution_count": 23,
   "id": "d521a7ed",
   "metadata": {},
   "outputs": [
    {
     "data": {
      "text/plain": [
       "95226663584"
      ]
     },
     "execution_count": 23,
     "metadata": {},
     "output_type": "execute_result"
    }
   ],
   "source": [
    "data = [23473197312, 23002682376, 95964591610, 135425356582, \n",
    "127034257023, 14685119857, 12238036315, 14406947630]\n",
    "\n",
    "next_element(data)"
   ]
  }
 ],
 "metadata": {
  "kernelspec": {
   "display_name": "Python 3",
   "language": "python",
   "name": "python3"
  },
  "language_info": {
   "codemirror_mode": {
    "name": "ipython",
    "version": 3
   },
   "file_extension": ".py",
   "mimetype": "text/x-python",
   "name": "python",
   "nbconvert_exporter": "python",
   "pygments_lexer": "ipython3",
   "version": "3.8.8"
  }
 },
 "nbformat": 4,
 "nbformat_minor": 5
}
