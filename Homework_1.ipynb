{
 "cells": [
  {
   "cell_type": "code",
   "execution_count": 9,
   "id": "98dcae08",
   "metadata": {},
   "outputs": [],
   "source": [
    "class Test:\n",
    "    @staticmethod\n",
    "    def assert_equals(a, b, *args, **kwargs):\n",
    "        assert a == b\n",
    "        print('Passed')"
   ]
  },
  {
   "cell_type": "markdown",
   "id": "e08c29f6",
   "metadata": {},
   "source": [
    "I Problem https://edabit.com/challenge/4xZFisQX8NnYB3nv4 (5 points)"
   ]
  },
  {
   "cell_type": "code",
   "execution_count": 16,
   "id": "60bfec3c",
   "metadata": {},
   "outputs": [],
   "source": [
    "def maximum_seating(lst):\n",
    "    seats = 0\n",
    "    lst = ['*', '*'] + lst + ['*', '*']\n",
    "\n",
    "    for i in range(2, len(lst) - 2):\n",
    "        if 1 not in lst[i - 2 : i + 3]:\n",
    "            lst[i] = 1\n",
    "            seats += 1\n",
    "\n",
    "    return seats"
   ]
  },
  {
   "cell_type": "code",
   "execution_count": 18,
   "id": "175bf38f",
   "metadata": {},
   "outputs": [
    {
     "name": "stdout",
     "output_type": "stream",
     "text": [
      "Passed\n",
      "Passed\n",
      "Passed\n",
      "Passed\n",
      "Passed\n",
      "Passed\n",
      "Passed\n",
      "Passed\n",
      "Passed\n",
      "Passed\n"
     ]
    }
   ],
   "source": [
    "Test.assert_equals(maximum_seating([0, 0, 0, 1, 0, 0, 1, 0, 0, 0]), 2)\n",
    "Test.assert_equals(maximum_seating([0, 0, 0, 0]), 2)\n",
    "Test.assert_equals(maximum_seating([1, 0, 0, 0, 0, 0, 1]), 1)\n",
    "Test.assert_equals(maximum_seating([1, 0, 0, 0, 0, 0, 0, 1]), 1)\n",
    "Test.assert_equals(maximum_seating([1, 0, 0, 0, 0, 1]), 0, \"Remember to keep a 2 chair gap on both sides!\")\n",
    "Test.assert_equals(maximum_seating([0, 0, 0, 0, 0, 0, 0, 0, 0, 0]), 4)\n",
    "Test.assert_equals(maximum_seating([0]), 1)\n",
    "Test.assert_equals(maximum_seating([0, 0]), 1)\n",
    "Test.assert_equals(maximum_seating([1]), 0)\n",
    "Test.assert_equals(maximum_seating([0, 1, 0, 0, 0, 1, 1, 0, 0, 0, 0, 1, 1, 0, 0, 1, 0, 1, 1, 0, 1, 1, 0, 0, 0, 0]), 1)"
   ]
  },
  {
   "cell_type": "markdown",
   "id": "f7515936",
   "metadata": {},
   "source": [
    "II Problem https://edabit.com/challenge/XQwPPHE6ZSu4Er9ht (5 Points)"
   ]
  },
  {
   "cell_type": "code",
   "execution_count": 19,
   "id": "8defd7bb",
   "metadata": {},
   "outputs": [],
   "source": [
    "def prime_factors(n):\n",
    "    i = 2\n",
    "    while n > 1:\n",
    "        while not n % i:\n",
    "            n //= i\n",
    "            yield i\n",
    "        i += 1\n",
    "\n",
    "def is_economical(n):\n",
    "    prime_factors_ = list( prime_factors(n) )\n",
    "\n",
    "    prime_factorization = list( set([(x, prime_factors_.count(x)) for x in prime_factors_]) )\n",
    "\n",
    "    sum_of_digits_in_factorization = sum( len(str(x[0])) if x[1] == 1 else len(str(x[0])) + len(str(x[1])) for x in prime_factorization )\n",
    "    \n",
    "    return \"Equidigital\" if sum_of_digits_in_factorization == len(str(n)) else \"Frugal\" if sum_of_digits_in_factorization < len(str(n)) else \"Wasteful\""
   ]
  },
  {
   "cell_type": "code",
   "execution_count": 20,
   "id": "408f585e",
   "metadata": {},
   "outputs": [
    {
     "name": "stdout",
     "output_type": "stream",
     "text": [
      "Passed\n",
      "Passed\n",
      "Passed\n",
      "Passed\n",
      "Passed\n",
      "Passed\n",
      "Passed\n",
      "Passed\n",
      "Passed\n",
      "Passed\n",
      "Passed\n",
      "Passed\n",
      "Passed\n"
     ]
    }
   ],
   "source": [
    "Test.assert_equals(is_economical(14), \"Equidigital\", \"Example #1\")\n",
    "Test.assert_equals(is_economical(125), \"Frugal\", \"Example #2\")\n",
    "Test.assert_equals(is_economical(1024), \"Frugal\", \"Example #3\")\n",
    "Test.assert_equals(is_economical(30), \"Wasteful\", \"Example #4\")\n",
    "Test.assert_equals(is_economical(81), \"Equidigital\")\n",
    "Test.assert_equals(is_economical(243), \"Frugal\")\n",
    "Test.assert_equals(is_economical(5), \"Equidigital\")\n",
    "Test.assert_equals(is_economical(6), \"Wasteful\")\n",
    "Test.assert_equals(is_economical(1267), \"Equidigital\")\n",
    "Test.assert_equals(is_economical(1701), \"Frugal\")\n",
    "Test.assert_equals(is_economical(1267), \"Equidigital\")\n",
    "Test.assert_equals(is_economical(12871), \"Equidigital\")\n",
    "Test.assert_equals(is_economical(88632), \"Wasteful\")"
   ]
  },
  {
   "cell_type": "markdown",
   "id": "714741dd",
   "metadata": {},
   "source": [
    "III Problem https://edabit.com/challenge/35oc64XJBuysTs2h9 (5 points)"
   ]
  },
  {
   "cell_type": "code",
   "execution_count": 14,
   "id": "5db1aab1",
   "metadata": {},
   "outputs": [],
   "source": [
    "from math import ceil\n",
    "\n",
    "def get_median(lst):\n",
    "    length = len(lst)\n",
    "    return lst[length // 2] if length % 2 else (lst[length // 2 - 1] + lst[length // 2])/2\n",
    "\n",
    "def get_quartiles(lst, method):\n",
    "    lst.sort()\n",
    "    length = len(lst)\n",
    "\n",
    "    if method == 'MS':\n",
    "        v1, v3 = (length + 1) / 4, 3 * (length + 1) / 4\n",
    "        q1 = lst[ceil(v1) - 1] if str(v1).endswith('.5') else lst[round(v1) - 1]\n",
    "        q3 = lst[int(v3) - 1] if str(v3).endswith('.5') else lst[round(v3) - 1]\n",
    "    elif length % 2 == 0:\n",
    "        q1 = get_median(lst[:length // 2])\n",
    "        q3 = get_median(lst[length // 2:])\n",
    "    else:\n",
    "        if method == 'T':\n",
    "            q1 = get_median(lst[:length // 2 + 1])\n",
    "            q3 = get_median(lst[length // 2:])\n",
    "        else:\n",
    "            q1 = get_median(lst[:length // 2])\n",
    "            q3 = get_median(lst[length // 2 + 1:])            \n",
    "    \n",
    "    return [lst[0], q1, get_median(lst), q3, lst[-1]]"
   ]
  },
  {
   "cell_type": "code",
   "execution_count": 21,
   "id": "74b14b25",
   "metadata": {},
   "outputs": [
    {
     "name": "stdout",
     "output_type": "stream",
     "text": [
      "Passed\n",
      "Passed\n",
      "Passed\n",
      "Passed\n",
      "Passed\n",
      "Passed\n",
      "Passed\n",
      "Passed\n",
      "Passed\n",
      "Passed\n",
      "Passed\n",
      "Passed\n"
     ]
    }
   ],
   "source": [
    "Test.assert_equals(get_quartiles([4, 1, 7, 8, 3, 6, 5, 2], \"T\"), [1, 2.5, 4.5, 6.5, 8])\n",
    "Test.assert_equals(get_quartiles([4, 1, 7, 8, 3, 6, 5, 2], \"MS\"), [1, 2, 4.5, 7, 8])\n",
    "Test.assert_equals(get_quartiles([2, 6, 1, 8, 5, 9, 7, 4, 3], \"MM\"), [1, 2.5, 5, 7.5, 9])\n",
    "Test.assert_equals(get_quartiles([2, 6, 1, 8, 5, 9, 7, 4, 3], \"MS\"), [1, 3, 5, 7, 9])\n",
    "Test.assert_equals(get_quartiles([10, 3, 1, 8, 6, 4, 7, 5, 2, 9], \"T\"), [1, 3, 5.5, 8, 10])\n",
    "Test.assert_equals(get_quartiles([10, 3, 1, 8, 6, 4, 7, 5, 2, 9], \"MM\"), [1, 3, 5.5, 8, 10])\n",
    "Test.assert_equals(get_quartiles([10, 3, 1, 8, 6, 4, 7, 5, 2, 9], \"MS\"), [1, 3, 5.5, 8, 10])\n",
    "Test.assert_equals(get_quartiles([3, 9, 11, 2, 4, 1, 8, 6, 10, 5, 7], \"T\"), [1, 3.5, 6, 8.5, 11])\n",
    "Test.assert_equals(get_quartiles([3, 9, 11, 2, 4, 1, 8, 6, 10, 5, 7], \"MM\"), [1, 3, 6, 9, 11])\n",
    "Test.assert_equals(get_quartiles([41, 33, 10, 26, 52, 77, 20, 39, 33, 33], \"T\"), [10, 26, 33, 41, 77])\n",
    "Test.assert_equals(get_quartiles([-4, -25, -33, 12, 37, 12], \"MM\"), [-33, -25, 4, 12, 37])\n",
    "Test.assert_equals(get_quartiles([-121, 8, -3, 12, 412, -66], \"MS\"), [-121, -66, 2.5, 12, 412])"
   ]
  }
 ],
 "metadata": {
  "kernelspec": {
   "display_name": "Python 3",
   "language": "python",
   "name": "python3"
  },
  "language_info": {
   "codemirror_mode": {
    "name": "ipython",
    "version": 3
   },
   "file_extension": ".py",
   "mimetype": "text/x-python",
   "name": "python",
   "nbconvert_exporter": "python",
   "pygments_lexer": "ipython3",
   "version": "3.8.8"
  }
 },
 "nbformat": 4,
 "nbformat_minor": 5
}
